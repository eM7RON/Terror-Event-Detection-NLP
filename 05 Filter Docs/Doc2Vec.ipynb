{
 "cells": [
  {
   "cell_type": "markdown",
   "metadata": {},
   "source": [
    "This notebook is designed to vectorize documents using pre-trained Doc2Vec Models\n",
    "\n",
    "The environment that was used is printed in the below cell"
   ]
  },
  {
   "cell_type": "code",
   "execution_count": 1,
   "metadata": {},
   "outputs": [
    {
     "name": "stdout",
     "output_type": "stream",
     "text": [
      "2.7.16 |Anaconda, Inc.| (default, Mar 14 2019, 15:42:17) [MSC v.1500 64 bit (AMD64)]\n",
      "# packages in environment at C:\\Anaconda3\\envs\\PY27:\n",
      "#\n",
      "# Name                    Version                   Build  Channel\n",
      "backports                 1.0                        py_2  \n",
      "backports.shutil_get_terminal_size 1.0.0                    py27_2  \n",
      "backports_abc             0.5                        py_0  \n",
      "blas                      1.0                         mkl  \n",
      "boto                      2.49.0                   pypi_0    pypi\n",
      "boto3                     1.9.196                  pypi_0    pypi\n",
      "botocore                  1.12.196                 pypi_0    pypi\n",
      "certifi                   2019.6.16                py27_0  \n",
      "chardet                   3.0.4                    pypi_0    pypi\n",
      "colorama                  0.4.1                    py27_0  \n",
      "decorator                 4.4.0                    py27_1  \n",
      "docutils                  0.14                     pypi_0    pypi\n",
      "enum34                    1.1.6                    py27_1  \n",
      "futures                   3.2.0                    py27_0  \n",
      "gensim                    0.12.4                   pypi_0    pypi\n",
      "icc_rt                    2019.0.0             h0cc432a_1  \n",
      "idna                      2.8                      pypi_0    pypi\n",
      "intel-openmp              2019.4                      245  \n",
      "ipykernel                 4.10.0                   py27_0  \n",
      "ipython                   5.8.0                    py27_0  \n",
      "ipython_genutils          0.2.0            py27hbe997df_0  \n",
      "jmespath                  0.9.4                    pypi_0    pypi\n",
      "jupyter_client            5.2.4                    py27_0  \n",
      "jupyter_core              4.4.0                    py27_0  \n",
      "libsodium                 1.0.16               h8b3e59e_0  \n",
      "mkl                       2019.4                      245  \n",
      "mkl_fft                   1.0.12           py27h44c1dab_0  \n",
      "numpy                     1.16.3           py27h5fc8d92_0  \n",
      "numpy-base                1.16.3           py27hb1d0314_0  \n",
      "pathlib2                  2.3.3                    py27_0  \n",
      "pickleshare               0.7.5                    py27_0  \n",
      "pip                       19.1.1                   py27_0  \n",
      "prompt_toolkit            1.0.15           py27h3a8ec6a_0  \n",
      "pygments                  2.4.2                      py_0  \n",
      "python                    2.7.16               hcb6e200_0  \n",
      "python-dateutil           2.8.0                    py27_0  \n",
      "pytz                      2019.1                     py_0  \n",
      "pyzmq                     18.0.0           py27hc56fc5f_0  \n",
      "requests                  2.22.0                   pypi_0    pypi\n",
      "s3transfer                0.2.1                    pypi_0    pypi\n",
      "scandir                   1.10.0           py27h0c8e037_0  \n",
      "scikit-learn              0.20.3           py27hf381715_0  \n",
      "scipy                     1.2.1            py27h4c3ab11_0  \n",
      "setuptools                41.0.1                   py27_0  \n",
      "simplegeneric             0.8.1                    py27_2  \n",
      "singledispatch            3.4.0.3          py27h3f9d112_0  \n",
      "six                       1.12.0                   py27_0  \n",
      "smart-open                1.8.4                    pypi_0    pypi\n",
      "sqlite                    3.28.0               h0c8e037_0  \n",
      "toolz                     0.10.0                     py_0  \n",
      "tornado                   5.1.1            py27h0c8e037_0  \n",
      "tqdm                      4.32.1                     py_0  \n",
      "traitlets                 4.3.2            py27h1b1b3a5_0  \n",
      "urllib3                   1.25.3                   pypi_0    pypi\n",
      "vc                        9                    h7299396_1  \n",
      "vs2008_runtime            9.00.30729.1         hfaea7d5_1  \n",
      "wcwidth                   0.1.7            py27hb1a0d82_0  \n",
      "wheel                     0.33.4                   py27_0  \n",
      "win_unicode_console       0.5              py27hc037021_0  \n",
      "wincertstore              0.2              py27hf04cefb_0  \n",
      "zeromq                    4.3.1                h2880e7c_3  \n"
     ]
    }
   ],
   "source": [
    "print(__import__('sys').version)\n",
    "!conda list -n PY27"
   ]
  },
  {
   "cell_type": "code",
   "execution_count": 1,
   "metadata": {},
   "outputs": [],
   "source": [
    "import warnings\n",
    "\n",
    "warnings.simplefilter(\"ignore\")\n",
    "warnings.simplefilter(\"ignore\", category=PendingDeprecationWarning)\n",
    "\n",
    "from toolz import compose, curry\n",
    "from gensim.models.doc2vec import Doc2Vec, TaggedDocument\n",
    "from tqdm import tqdm\n",
    "\n",
    "import gensim, os\n",
    "\n",
    "try:\n",
    "    import cPickle as pickle\n",
    "except:\n",
    "    import pickle\n",
    "    "
   ]
  },
  {
   "cell_type": "markdown",
   "metadata": {},
   "source": [
    "Forked version of gensim for Python 2.7: https://github.com/jhlau/gensim\n",
    "\n",
    "(Windows will require VS C++ 9.0 compiler: https://www.microsoft.com/en-gb/download/details.aspx?id=44266)\n",
    "\n",
    "Once downloaded: Unzip gensim and navigate to its directory in command prompt/bash. Run 'python setup.py install'\n",
    "\n",
    "Pretrained: Dov2Vec models: https://github.com/jhlau/doc2vec"
   ]
  },
  {
   "cell_type": "code",
   "execution_count": 2,
   "metadata": {},
   "outputs": [],
   "source": [
    "def save_pickle(filename, data):\n",
    "    with open(os.path.normpath(filename), 'wb') as open_file:\n",
    "        pickle.dump(data, open_file)\n",
    "\n",
    "def load_pickle(filename):\n",
    "    with open(os.path.normpath(filename), 'rb') as open_file:\n",
    "        return pickle.load(open_file)"
   ]
  },
  {
   "cell_type": "code",
   "execution_count": 3,
   "metadata": {},
   "outputs": [],
   "source": [
    "def datetime_sort(data):\n",
    "    return sorted(data, key=lambda x: x['datetime'])"
   ]
  },
  {
   "cell_type": "code",
   "execution_count": 4,
   "metadata": {},
   "outputs": [],
   "source": [
    "def extract_texts(data):\n",
    "    return [doc['content'] for doc in data]"
   ]
  },
  {
   "cell_type": "code",
   "execution_count": 5,
   "metadata": {},
   "outputs": [],
   "source": [
    "ap_model = Doc2Vec.load(r'Models\\ap\\doc2vec.bin')\n",
    "wiki_model = Doc2Vec.load(r'Models\\wiki\\doc2vec.bin')"
   ]
  },
  {
   "cell_type": "markdown",
   "metadata": {},
   "source": [
    "Select the model you want to use"
   ]
  },
  {
   "cell_type": "code",
   "execution_count": 7,
   "metadata": {},
   "outputs": [],
   "source": [
    "model = wiki_model"
   ]
  },
  {
   "cell_type": "markdown",
   "metadata": {},
   "source": [
    "### Main corpus\n",
    "\n",
    "Vectorize corpus documents"
   ]
  },
  {
   "cell_type": "markdown",
   "metadata": {},
   "source": [
    "Make sure the input and output paths are correct"
   ]
  },
  {
   "cell_type": "code",
   "execution_count": 8,
   "metadata": {},
   "outputs": [],
   "source": [
    "INPUT_FILENAME = r'C:\\Users\\Simon\\OneDrive - University of Exeter\\__Project__\\__Data__\\03 Preprocessing\\out\\pre_processed.pkl'\n",
    "OUTPUT_FILENAME = r'C:\\Users\\Simon\\OneDrive - University of Exeter\\__Project__\\05 Filter Docs\\temp\\vectorized.pkl'"
   ]
  },
  {
   "cell_type": "code",
   "execution_count": 9,
   "metadata": {},
   "outputs": [],
   "source": [
    "doc2vec_process_pipe = compose(\n",
    "                               curry(save_pickle)(OUTPUT_FILENAME),\n",
    "                               list,\n",
    "                               curry(map)(model.infer_vector),\n",
    "                               tqdm,\n",
    "                               curry(map)(gensim.utils.simple_preprocess),\n",
    "                               tqdm,\n",
    "                               curry(map)(lambda x: x['content']),\n",
    "                               load_pickle,\n",
    "                               )"
   ]
  },
  {
   "cell_type": "code",
   "execution_count": 10,
   "metadata": {},
   "outputs": [
    {
     "name": "stderr",
     "output_type": "stream",
     "text": [
      "100%|██████████| 227/227 [00:00<00:00, 486.08it/s]\n",
      "100%|██████████| 227/227 [00:02<00:00, 92.16it/s]\n"
     ]
    }
   ],
   "source": [
    "doc2vec_process_pipe(INPUT_FILENAME)"
   ]
  },
  {
   "cell_type": "markdown",
   "metadata": {},
   "source": [
    "### SVM training data\n",
    "\n",
    "Vectorize SVM training data"
   ]
  },
  {
   "cell_type": "code",
   "execution_count": 9,
   "metadata": {},
   "outputs": [],
   "source": [
    "GTD_DESCRIPTIONS = r'C:\\Users\\Simon\\OneDrive - University of Exeter\\__Project__\\__Data__\\GTD\\Preprocessed Info p2.pkl'\n",
    "\n",
    "POSITIVE_DOCS = r'C:\\Users\\Simon\\OneDrive - University of Exeter\\__Project__\\__Data__\\04 Training Data\\SVM Positives\\Agg2.pkl'\n",
    "\n",
    "NEGATIVE_DOCS = r'C:\\Users\\Simon\\OneDrive - University of Exeter\\__Project__\\__Data__\\04 Training Data\\SVM Negatives\\Agg2.pkl'"
   ]
  },
  {
   "cell_type": "code",
   "execution_count": 10,
   "metadata": {},
   "outputs": [],
   "source": [
    "gtd_des = load_pickle(GTD_DESCRIPTIONS)\n",
    "pos_docs = load_pickle(POSITIVE_DOCS)\n",
    "neg_docs = load_pickle(NEGATIVE_DOCS)"
   ]
  },
  {
   "cell_type": "code",
   "execution_count": 11,
   "metadata": {},
   "outputs": [],
   "source": [
    "# For Positive and Negative samples\n",
    "\n",
    "process_docs = compose(\n",
    "                       #curry(save_pickle)(SAVENAME),\n",
    "                       list,\n",
    "                       curry(map)(model.infer_vector),\n",
    "                       tqdm,\n",
    "                       curry(map)(gensim.utils.simple_preprocess),\n",
    "                       tqdm,\n",
    "                       curry(map)(lambda x: x['content']))\n",
    "\n",
    "# For The positive GTD descriptions\n",
    "\n",
    "process_texts = compose(\n",
    "                        #curry(save_pickle)(SAVENAME),\n",
    "                        list,\n",
    "                        curry(map)(model.infer_vector),\n",
    "                        tqdm,\n",
    "                        curry(map)(gensim.utils.simple_preprocess),)\n",
    "\n",
    "doc2vec_process_pipe = curry(map)(lambda x: process_docs(x) if type(x[0]) == dict else process_texts(x))"
   ]
  },
  {
   "cell_type": "code",
   "execution_count": 12,
   "metadata": {},
   "outputs": [
    {
     "name": "stderr",
     "output_type": "stream",
     "text": [
      "100%|██████████| 1508/1508 [00:01<00:00, 865.17it/s] \n",
      "100%|██████████| 1508/1508 [00:08<00:00, 183.28it/s]\n",
      "100%|██████████| 4570/4570 [00:06<00:00, 699.31it/s]\n",
      "100%|██████████| 4570/4570 [00:30<00:00, 152.16it/s]\n",
      "100%|██████████| 8624/8624 [00:03<00:00, 2558.29it/s]\n"
     ]
    }
   ],
   "source": [
    "svm_data = doc2vec_process_pipe([pos_docs, neg_docs, gtd_des])"
   ]
  },
  {
   "cell_type": "code",
   "execution_count": 13,
   "metadata": {},
   "outputs": [],
   "source": [
    "SAVENAME = r'C:\\Users\\Simon\\OneDrive - University of Exeter\\__Project__\\__Data__\\04 Training Data\\SVM\\pos_neg_gtd_wiki.pkl'\n",
    "\n",
    "save_pickle(SAVENAME, svm_data)"
   ]
  },
  {
   "cell_type": "code",
   "execution_count": null,
   "metadata": {},
   "outputs": [],
   "source": []
  }
 ],
 "metadata": {
  "kernelspec": {
   "display_name": "py27",
   "language": "python",
   "name": "py27"
  },
  "language_info": {
   "codemirror_mode": {
    "name": "ipython",
    "version": 2
   },
   "file_extension": ".py",
   "mimetype": "text/x-python",
   "name": "python",
   "nbconvert_exporter": "python",
   "pygments_lexer": "ipython2",
   "version": "2.7.16"
  }
 },
 "nbformat": 4,
 "nbformat_minor": 2
}
