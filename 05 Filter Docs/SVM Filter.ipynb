{
 "cells": [
  {
   "cell_type": "markdown",
   "metadata": {},
   "source": [
    "This notebook filters documents by using an SVM\n",
    "\n",
    "The environment that was used it printed below"
   ]
  },
  {
   "cell_type": "code",
   "execution_count": 7,
   "metadata": {},
   "outputs": [
    {
     "name": "stdout",
     "output_type": "stream",
     "text": [
      "3.7.3 (default, Apr 24 2019, 15:29:51) [MSC v.1915 64 bit (AMD64)]\n",
      "# packages in environment at C:\\Anaconda3\\envs\\NLP37:\n",
      "#\n",
      "# Name                    Version                   Build  Channel\n",
      "_pytorch_select           1.1.0                       cpu  \n",
      "alabaster                 0.7.12                   py37_0  \n",
      "asn1crypto                0.24.0                   py37_0  \n",
      "atomicwrites              1.3.0                    py37_1  \n",
      "attrs                     19.1.0                   py37_1  \n",
      "babel                     2.7.0                      py_0  \n",
      "backcall                  0.1.0                    py37_0  \n",
      "beautifulsoup4            4.7.1                    pypi_0    pypi\n",
      "blas                      1.0                         mkl  \n",
      "boto                      2.49.0                   py37_0    anaconda\n",
      "boto3                     1.9.162                    py_0    anaconda\n",
      "botocore                  1.12.163                   py_0    anaconda\n",
      "bs4                       0.0.1                    pypi_0    pypi\n",
      "bz2file                   0.98                     py37_1    anaconda\n",
      "ca-certificates           2019.5.15                     0  \n",
      "cchardet                  2.1.4                    pypi_0    pypi\n",
      "certifi                   2019.6.16                py37_1  \n",
      "cffi                      1.12.3           py37h7a1dbc1_0  \n",
      "chardet                   3.0.4                    py37_1  \n",
      "click                     7.0                      pypi_0    pypi\n",
      "colorama                  0.4.1                    py37_0  \n",
      "corenlp                   0.0.14                   pypi_0    pypi\n",
      "corenlp-xml-reader        0.1.3                    pypi_0    pypi\n",
      "corenlpy                  0.0.6                    pypi_0    pypi\n",
      "country-list              0.1.3                    pypi_0    pypi\n",
      "cryptography              2.7              py37hb32ad35_0    conda-forge\n",
      "cycler                    0.10.0                   py37_0  \n",
      "cymem                     1.31.2           py37he980bc4_0  \n",
      "cytoolz                   0.9.0.1          py37hfa6e2cd_1  \n",
      "datapackage               1.6.2                    pypi_0    pypi\n",
      "decorator                 4.4.0                    py37_1  \n",
      "dill                      0.2.9                    py37_0  \n",
      "docutils                  0.14                     py37_0    anaconda\n",
      "en-core-web-lg            2.0.0                    pypi_0    pypi\n",
      "en-core-web-md            2.0.0                    pypi_0    pypi\n",
      "en-core-web-sm            2.0.0                    pypi_0    pypi\n",
      "et-xmlfile                1.0.1                    pypi_0    pypi\n",
      "freetype                  2.9.1                ha9979f8_1  \n",
      "funcy                     1.12                     pypi_0    pypi\n",
      "future                    0.17.1                   py37_0  \n",
      "fuzzywuzzy                0.17.0                   pypi_0    pypi\n",
      "gensim                    3.4.0            py37hfa6e2cd_0    anaconda\n",
      "icc_rt                    2019.0.0             h0cc432a_1  \n",
      "icu                       58.2                 ha66f8fd_1  \n",
      "idna                      2.8                      py37_0  \n",
      "ijson                     2.4                      pypi_0    pypi\n",
      "imagesize                 1.1.0                    py37_0  \n",
      "imbalanced-learn          0.5.0                    pypi_0    pypi\n",
      "importlib_metadata        0.17                     py37_1  \n",
      "intel-openmp              2019.4                      245  \n",
      "ipykernel                 5.1.1            py37h39e3cac_0  \n",
      "ipython                   7.6.0            py37h39e3cac_0  \n",
      "ipython_genutils          0.2.0                    py37_0  \n",
      "isodate                   0.6.0                    pypi_0    pypi\n",
      "jdcal                     1.4.1                    pypi_0    pypi\n",
      "jedi                      0.13.3                   py37_0  \n",
      "jinja2                    2.10.1                   py37_0  \n",
      "jmespath                  0.9.4                      py_0    anaconda\n",
      "joblib                    0.13.2                   py37_0  \n",
      "jpeg                      9b                   hb83a4c4_2  \n",
      "jsonlines                 1.2.0                    pypi_0    pypi\n",
      "jsonpointer               2.0                      pypi_0    pypi\n",
      "jsonschema                3.0.2                    pypi_0    pypi\n",
      "jupyter_client            5.2.4                    py37_0  \n",
      "jupyter_core              4.4.0                    py37_0  \n",
      "kiwisolver                1.1.0            py37ha925a31_0  \n",
      "libpng                    1.6.37               h2a8f88b_0  \n",
      "libsodium                 1.0.16               h9d3ae62_0  \n",
      "libtiff                   4.0.10               hb898794_2  \n",
      "linear-tsv                1.1.0                    pypi_0    pypi\n",
      "markupsafe                1.1.1            py37he774522_0  \n",
      "matplotlib                3.1.0            py37hc8f65d3_0  \n",
      "mkl                       2019.4                      245  \n",
      "mkl-service               2.0.2            py37he774522_0  \n",
      "mkl_fft                   1.0.12           py37h14836fe_0  \n",
      "mkl_random                1.0.2            py37h343c172_0  \n",
      "more-itertools            7.0.0                    py37_0  \n",
      "msgpack-numpy             0.4.4.2                  py37_0  \n",
      "msgpack-python            0.5.6            py37he980bc4_1  \n",
      "murmurhash                0.28.0           py37he025d50_0  \n",
      "networkx                  2.3                        py_0    anaconda\n",
      "ninja                     1.9.0            py37h74a9793_0  \n",
      "nltk                      3.4.1                    py37_0  \n",
      "numexpr                   2.6.9            py37hdce8814_0  \n",
      "numpy                     1.16.4           py37h19fb1c0_0  \n",
      "numpy-base                1.16.4           py37hc3f5095_0  \n",
      "numpydoc                  0.9.1                      py_0  \n",
      "olefile                   0.46                     py37_0  \n",
      "openpyxl                  2.4.11                   pypi_0    pypi\n",
      "openssl                   1.1.1c               he774522_1  \n",
      "packaging                 19.0                     py37_0  \n",
      "pandas                    0.24.2           py37ha925a31_0  \n",
      "pandas-datapackage-reader 0.12.1                   pypi_0    pypi\n",
      "parso                     0.4.0                      py_0  \n",
      "phantomjs-binary          2.1.3                    pypi_0    pypi\n",
      "pickleshare               0.7.5                    py37_0  \n",
      "pillow                    6.0.0            py37hdc69c19_0  \n",
      "pip                       19.1.1                   py37_0  \n",
      "plac                      0.9.6                    py37_0  \n",
      "pluggy                    0.12.0                     py_0  \n",
      "preshed                   1.0.1            py37he025d50_0  \n",
      "prompt_toolkit            2.0.9                    py37_0  \n",
      "protobuf                  3.8.0                    pypi_0    pypi\n",
      "py                        1.8.0                    py37_0  \n",
      "pycorenlp                 0.3.0                    pypi_0    pypi\n",
      "pycountry                 19.7.15                  pypi_0    pypi\n",
      "pycparser                 2.19                     py37_0  \n",
      "pygments                  2.4.2                      py_0  \n",
      "pyldavis                  2.1.2                    pypi_0    pypi\n",
      "pyopenssl                 19.0.0                   py37_0  \n",
      "pyparsing                 2.4.0                      py_0  \n",
      "pyqt                      5.9.2            py37h6538335_2  \n",
      "pyreadline                2.1                      py37_1  \n",
      "pyrsistent                0.15.4                   pypi_0    pypi\n",
      "pysocks                   1.7.0                    py37_0  \n",
      "pytest                    5.0.1                    py37_0  \n",
      "python                    3.7.3                h8c8aaf0_1  \n",
      "python-dateutil           2.8.0                    py37_0  \n",
      "python-levenshtein        0.12.0          py37hfa6e2cd_1001    conda-forge\n",
      "python-louvain            0.13                     pypi_0    pypi\n",
      "pytorch                   1.0.1           cpu_py37h39a92a0_0  \n",
      "pytz                      2019.1                     py_0  \n",
      "pyzmq                     18.0.0           py37ha925a31_0  \n",
      "qt                        5.9.7            vc14h73c81de_0  \n",
      "regex                     2018.07.11       py37hfa6e2cd_0  \n",
      "requests                  2.22.0                   py37_0  \n",
      "rfc3986                   1.3.2                    pypi_0    pypi\n",
      "s3transfer                0.2.0                    py37_0    anaconda\n",
      "scikit-learn              0.21.2           py37h6288b17_0  \n",
      "scipy                     1.2.1            py37h29ff71c_0  \n",
      "selenium                  3.141.0          py37he774522_0  \n",
      "setuptools                41.0.1                   py37_0  \n",
      "sip                       4.19.8           py37h6538335_0  \n",
      "six                       1.12.0                   py37_0  \n",
      "smart_open                1.8.4                      py_0    anaconda\n",
      "snowballstemmer           1.9.0                      py_0  \n",
      "soupsieve                 1.9.2                    pypi_0    pypi\n",
      "spacy                     2.0.12           py37h8300f20_0  \n",
      "sphinx                    2.1.2                      py_0  \n",
      "sphinxcontrib-applehelp   1.0.1                      py_0  \n",
      "sphinxcontrib-devhelp     1.0.1                      py_0  \n",
      "sphinxcontrib-htmlhelp    1.0.2                      py_0  \n",
      "sphinxcontrib-jsmath      1.0.1                      py_0  \n",
      "sphinxcontrib-qthelp      1.0.2                      py_0  \n",
      "sphinxcontrib-serializinghtml 1.1.3                      py_0  \n",
      "sqlalchemy                1.3.6                    pypi_0    pypi\n",
      "sqlite                    3.28.0               he774522_0  \n",
      "stanfordnlp               0.2.0                    pypi_0    pypi\n",
      "tableschema               1.6.0                    pypi_0    pypi\n",
      "tabulator                 1.23.0                   pypi_0    pypi\n",
      "termcolor                 1.1.0                    py37_1  \n",
      "thinc                     6.10.3           py37h8300f20_0  \n",
      "tk                        8.6.8                hfa6e2cd_0  \n",
      "toolz                     0.9.0                    py37_0  \n",
      "tornado                   6.0.2            py37he774522_0  \n",
      "tqdm                      4.32.1                     py_0  \n",
      "traitlets                 4.3.2                    py37_0  \n",
      "ujson                     1.35             py37hfa6e2cd_0  \n",
      "unicodecsv                0.14.1                   pypi_0    pypi\n",
      "urllib3                   1.24.2                   py37_0  \n",
      "vc                        14.1                 h21ff451_3    anaconda\n",
      "vs2015_runtime            15.5.2                        3    anaconda\n",
      "wcwidth                   0.1.7                    py37_0  \n",
      "wheel                     0.33.4                   py37_0  \n",
      "win_inet_pton             1.1.0                    py37_0  \n",
      "wincertstore              0.2                      py37_0  \n",
      "wordcloud                 1.5.0           py37hfa6e2cd_1000    conda-forge\n",
      "wrapt                     1.10.11          py37hfa6e2cd_2  \n",
      "xlrd                      1.2.0                    py37_0  \n",
      "xz                        5.2.4                h2fa13f4_4  \n",
      "zeromq                    4.3.1                h33f27b4_3  \n",
      "zipp                      0.5.1                      py_0  \n",
      "zlib                      1.2.11               h62dcd97_3  \n",
      "zstd                      1.3.7                h508b16e_0  \n"
     ]
    }
   ],
   "source": [
    "print(__import__('sys').version)\n",
    "!conda list -n NLP37"
   ]
  },
  {
   "cell_type": "code",
   "execution_count": 1,
   "metadata": {},
   "outputs": [
    {
     "name": "stdout",
     "output_type": "stream",
     "text": [
      "Populating the interactive namespace from numpy and matplotlib\n"
     ]
    }
   ],
   "source": [
    "%pylab qt\n",
    "\n",
    "from sklearn.svm import SVC\n",
    "from sklearn.calibration import CalibratedClassifierCV\n",
    "from toolz import curry, compose\n",
    "\n",
    "import os\n",
    "\n",
    "try:\n",
    "    import cPickle as pickle\n",
    "except:\n",
    "    import pickle"
   ]
  },
  {
   "cell_type": "code",
   "execution_count": 2,
   "metadata": {},
   "outputs": [],
   "source": [
    "def save_pickle(filename, data):\n",
    "    with open(os.path.normpath(filename), 'wb') as open_file:\n",
    "        pickle.dump(data, open_file)\n",
    "\n",
    "def load_pickle(filename, encoding='utf-8'):\n",
    "    with open(os.path.normpath(filename), 'rb') as open_file:\n",
    "        return pickle.load(open_file, encoding=encoding)#, ignore=True)"
   ]
  },
  {
   "cell_type": "markdown",
   "metadata": {},
   "source": [
    "Ensure the input filename matches your output filename of the Doc2Vec notebook\n",
    "\n",
    "Check input and output names are correct"
   ]
  },
  {
   "cell_type": "code",
   "execution_count": 3,
   "metadata": {},
   "outputs": [],
   "source": [
    "INPUT_FILENAME = r'C:\\Users\\Simon\\OneDrive - University of Exeter\\__Project__\\05 Filter Docs\\temp\\vectorized.pkl'\n",
    "OUTPUT_FILENAME = r'C:\\Users\\Simon\\OneDrive - University of Exeter\\__Project__\\05 Filter Docs\\temp\\filtered.pkl'\n",
    "CORPUS = r'C:\\Users\\Simon\\OneDrive - University of Exeter\\__Project__\\__Data__\\03 Preprocessing\\out\\pre_processed.pkl'\n",
    "SVM = 'Classifiers\\svm_wiki.pkl'"
   ]
  },
  {
   "cell_type": "markdown",
   "metadata": {},
   "source": [
    "Because the previous notebook uses Python 2.7 we must decode the pickle files by using 'latin1' encoding - this just so happens to be the best one that works in Python"
   ]
  },
  {
   "cell_type": "code",
   "execution_count": 4,
   "metadata": {},
   "outputs": [],
   "source": [
    "# Decode for Python 3\n",
    "save_pickle(INPUT_FILENAME, load_pickle(INPUT_FILENAME, encoding='latin1'))"
   ]
  },
  {
   "cell_type": "markdown",
   "metadata": {},
   "source": [
    "The next 2 cells will filter the documents"
   ]
  },
  {
   "cell_type": "code",
   "execution_count": 5,
   "metadata": {},
   "outputs": [],
   "source": [
    "svm_filter_pipe = compose(\n",
    "                          curry(save_pickle)(OUTPUT_FILENAME),\n",
    "                          lambda x: asarray(load_pickle(CORPUS))[x.astype(bool)],\n",
    "                          load_pickle(SVM).predict,\n",
    "                          load_pickle,\n",
    "                          )"
   ]
  },
  {
   "cell_type": "code",
   "execution_count": 6,
   "metadata": {},
   "outputs": [],
   "source": [
    "svm_filter_pipe(INPUT_FILENAME)"
   ]
  },
  {
   "cell_type": "code",
   "execution_count": 8,
   "metadata": {},
   "outputs": [
    {
     "data": {
      "text/plain": [
       "array([{'publication': 'thetimes.co.uk', 'title': \"Revolt over Pakistani army's fading power\\n\", 'datetime': datetime.datetime(2017, 1, 19, 0, 0, tzinfo=<UTC>), 'raw-date': 'January 19, 2017 Thursday 12:00 AM GMT', 'language': 'ENGLISH', 'author': 'Wajahat Khan,\\xa0Islamabad | Hugh\\xa0Tomlinson,\\xa0Delhi', 'section': 'WORLD', 'publication-type': 'Newspaper; Web Publication', 'journal-type': 'Unknown', 'highlight': 'Unknown', 'dateline': 'Unknown', 'journal-code': 'WEBTTO', 'content': 'Tensions have emerged within the Pakistani military as concern grows that the army is losing status, threatening the supremacy of the 600,000-man institution that has dominated the country politically since its birth. Qamar Javed Bajwa, appointed as commander of the world\\'s sixth largest army in November last year, was taken to task last week by junior officers unhappy about perceived efforts by Nawaz Sharif, the prime minister, to curb its power. Many in the ranks are sceptical about closer ties with Mr Sharif\\'s government, which the general was expected to usher in with his pro-democracy credentials. General Bajwa has been saddled with the reputation of being \"Sharif\\'s man\". He has little counterinsurgency experience in Pakistan\\'s decade-long war against Islamist militants in its west. The rift may alarm western allies, for whom smooth relations between Pakistan\\'s government and military are a guarantee of stability in a country possessing nuclear weapons and still regarded as a bulwark against international terrorism. At an army dinner, or darbar, where the floor is open to all, the general faced unusually candid questioning last week over government meddling. Officers complained about a senior minister attacking military courts - introduced in 2015 to allow the army to try terrorism suspects - and the recent dressing down of Pakistan\\'s former intelligence chief by Mr Sharif and his brother that was leaked to the press. Military sources said that General Bajwa promised to address the concerns, telling the officers: \"You do your job and let me do mine.\" The exchange was itself leaked, however. Mr Sharif resisted enormous pressure to extend the term of General Bajwa\\'s popular predecessor, Raheel Sharif, who led a brutally effective campaign against militants sheltering in Pakistan\\'s lawless tribal belt after the Peshawar school massacre in 2014. Security has improved markedly across Pakistan, although there has been a string of horrific attacks by the Taliban, Isis and affiliates of al-Qaeda in the past year. Determined to regain some ground in the constant tug of war between civilian and military rule in Pakistan, Mr Sharif, who has twice before been toppled from power, ignored the calls to retain General Sharif. It was the first time a Pakistani military chief had departed as scheduled in more than 20 years. It was a victory for the prime minister and should help to ensure that Pakistan approaches a smooth transition of power at the general election in 2018. It would be the second time this has happened in seven tumultuous decades in which democracies and dictatorships alike have been cut short by assassinations and martial law. At a time of tension between Pakistan and India, General Bajwa does at least bring vast experience from commands on the border and in Kashmir. Since taking the reins he has reshuffled the military old guard. Powerful officers have been moved on, including the chief of the Inter-Services Intelligence (ISI), Pakistan\\'s spy agency.', 'errors': [], 'load-date': 'January 19, 2017', 'filename': 'C:\\\\Users\\\\Simon\\\\OneDrive - University of Exeter\\\\__Project__\\\\__Data__\\\\01 Raw/EuroNews_-_English_Version_Sky_News_Ukrinfor2019-07-18_03-41.HTML', 'id': 20},\n",
       "       {'publication': 'thetimes.co.uk', 'title': \"Isis paid for Paris bomber's life with sheep\\n\", 'datetime': datetime.datetime(2017, 1, 19, 0, 0, tzinfo=<UTC>), 'raw-date': 'January 19, 2017 Thursday 12:00 AM GMT', 'language': 'ENGLISH', 'author': 'Adam Sage, Paris', 'section': 'WORLD', 'publication-type': 'Newspaper; Web Publication', 'journal-type': 'Unknown', 'highlight': 'Unknown', 'dateline': 'Unknown', 'journal-code': 'WEBTTO', 'content': 'Islamic State rewarded the family of an Iraqi suicide bomber who took part in attacks that killed 130 people in Paris with $5,000 and a flock of sheep, according to a French intelligence report. The report also concludes that two brothers of the bomber, named as Ammar Ramadan Mansour Mohamad al Sabaawi, then joined the jihadists. It is feared that one has entered Europe. Ten men mounted an attack on November 13, 2015, at the Stade de France, the Bataclan concert hall and at bars and restaurants. Salah Abdeslam, 27, was arrested in Belgium last year. The others died in the attacks or in a raid five days later. Police soon identified seven of the dead jihadists, but two remained a mystery. Now the Direction Generale de la Securite Exterieure, equivalent to MI6, has evidence that one of them was al Sabaawi. He was about 20, educated, and was born in a village in Iraq, the report said. He had also lived in Mosul. After he died his family was contacted by Isis, which gave them $5,000 and the sheep. They were told he had perished in a suicide attack in Baghdad. Officials are worried that many of the 700 French people who have joined Isis could return and attack France. Loic Garnier, head of the anti-terrorist co-ordination unit, voiced concern for the 460 or so French children in Iraq and Syria. \"The Islamists have implanted in their minds such a degree of ultra-violence that it is almost a mental handicap. It is banal to witness scenes of decapitation, to see dead bodies.\".', 'errors': [], 'load-date': 'January 19, 2017', 'filename': 'C:\\\\Users\\\\Simon\\\\OneDrive - University of Exeter\\\\__Project__\\\\__Data__\\\\01 Raw/EuroNews_-_English_Version_Sky_News_Ukrinfor2019-07-18_03-41.HTML', 'id': 30},\n",
       "       {'publication': 'thetimes.co.uk', 'title': 'Travel chiefs tried to avoid Tunisia fear\\n', 'datetime': datetime.datetime(2017, 1, 19, 0, 0, tzinfo=<UTC>), 'raw-date': 'January 19, 2017 Thursday 12:00 AM GMT', 'language': 'ENGLISH', 'author': 'John Simpson, Crime\\xa0Correspondent', 'section': 'NEWS', 'publication-type': 'Newspaper; Web Publication', 'journal-type': 'Unknown', 'highlight': 'Unknown', 'dateline': 'Unknown', 'journal-code': 'WEBTTO', 'content': 'The travel company whose 38 guests were shot dead at a luxury hotel in Tunisia by a terrorist had previously warned the local authorities that \"an army of police\" would scare tourists, an inquest was told yesterday. A representative from Tui, the travel group that owns Thomson and First Choice, used a meeting with senior Tunisian government officials to warn that clients would feel uncomfortable if security was too \"evident\". Venancio Lopez made the point at a meeting held on May 25, 2015, after the murders of 22 tourists by Islamist gunmen at the Bardo museum in Tunis, the capital, that March. A month later, Seifeddine Rezgui, 22, carried out his assault on the Imperial Marhaba, used only by Tui customers, with an assault rifle and explosives. Mr Lopez, managing director of Tunisie Voyages - a local subsidiary of Tui, said he had made a list of points he wanted the British embassy to raise. In a statement to the inquest into the deaths of 30 Britons, he said: \"We wanted to increase the security in general but we didn\\'t want tourists to be scared by seeing an army of police.\" A document submitted by Tunisotel, a subsidiary of the hotel owners Riu, also showed that of its nine hotels in Sousse, the Imperial Marhaba had the fewest security cameras. Rezgui walked past other luxury hotels to reach the Imperial Marhaba. The inquest in London continues.', 'errors': [], 'load-date': 'January 19, 2017', 'filename': 'C:\\\\Users\\\\Simon\\\\OneDrive - University of Exeter\\\\__Project__\\\\__Data__\\\\01 Raw/EuroNews_-_English_Version_Sky_News_Ukrinfor2019-07-18_03-41.HTML', 'id': 41},\n",
       "       {'publication': 'thetimes.co.uk', 'title': \"Toss crucial to England's chances of hitting back\\n\", 'datetime': datetime.datetime(2017, 1, 19, 0, 1, tzinfo=<UTC>), 'raw-date': 'January 19, 2017 Thursday 12:01 AM GMT', 'language': 'ENGLISH', 'author': 'Richard Hobson, Deputy Cricket Correspondent, Cuttack', 'section': 'SPORT', 'publication-type': 'Newspaper; Web Publication', 'journal-type': 'Unknown', 'highlight': 'Unknown', 'dateline': 'Unknown', 'journal-code': 'WEBTTO', 'content': 'Jos Buttler described Eoin Morgan as a \"revolutionary player for England\" before the second game of the three-match one-day series against India, but the most important contribution the captain makes today may prove to be something as plain as winning the toss. Morgan, who transformed batting with his improvisations at the turn of the decade, suggested after losing on Sunday that England are probably a better side chasing a target. Predictions of heavy dew this evening in Cuttack make batting second even more attractive and perhaps even critical. The groundsman at the Barabati Stadium estimates that dew will start to settle at about 5.30pm local time (noon GMT). Transposing this onto the match timetable, the turf may be moist even before the second innings begins. Damp balls impact particularly on spin bowlers. The England spinners have been short of their best as it is in both the warm-ups and the first ODI. Adil Rashid took big strides last year but is in danger of regressing as he struggles for length. England have addressed the delay in acceleration at Pune, with Buttler identifying the period between the 30th and 40th over as crucial to their defeat. Whatever is occupying India\\'s thoughts it is not the England plan to try to unsettle Virat Kohli with more short-pitched balls, as revealed by Jake Ball. \"Good luck,\" was the first response of KL Rahul, who could not help but smile at the intention. As befits the status he has in his homeland, Kohli occupied seat 1A on the charter flight from Pune yesterday, but a small problem with the delivery of luggage and kit from the airport to the team hotel meant that England\\'s practice under lights was slightly delayed. Not that this deflated the 15,000 or so locals who filled a stand merely to watch the touring side and a few of the Indians prepare. England (from): Jason Roy, Alex Hales, Joe Root, Eoin Morgan (capt), Ben Stokes, Jos Buttler, Moeen Ali, Chris Woakes, Adil Rashid, Liam Plunkett, David Willey, Jake Ball. India (from): Shikhar Dhawan, KL Rahul, Virat Kohli (capt), Yuvraj Singh, Mahendra-Singh Dhoni, Kedar Jadhav, Hardik Pandya, Ravindra Jadeja, Ravichandran Ashwin, Jasprit Bumrah, Amit Mishra, Umesh Yadav. Umpires: R Palliyaguruge (SL), C Shamshuddin (Ind). Third umpire: K Dharmasena (SL). Match referee: A Pycroft (Zim). TV: Sky Sports, from 7.30am. 8am start. All in all, this may prove an occasion when Morgan\\'s ability to stay calm under pressure, lauded once again in the build-up by his deputy, Buttler, proves especially valuable. Both have stressed the value of their time in the IPL, Buttler suggesting that his stint with Mumbai Indians last year was \"probably the best cricket experience I have had\". Given that he featured in the World Twenty20 final in Calcutta nine months ago and played in the Ashes-winning series in 2015 that is quite an endorsement, and one that will only raise the hopes of colleagues in the auction next month.', 'errors': [], 'load-date': 'January 19, 2017', 'filename': 'C:\\\\Users\\\\Simon\\\\OneDrive - University of Exeter\\\\__Project__\\\\__Data__\\\\01 Raw/EuroNews_-_English_Version_Sky_News_Ukrinfor2019-07-18_03-41.HTML', 'id': 53},\n",
       "       {'publication': 'thetimes.co.uk', 'title': 'Iraqi troops liberate eastern Mosul as jihadists retreat\\n', 'datetime': datetime.datetime(2017, 1, 19, 0, 1, tzinfo=<UTC>), 'raw-date': 'January 19, 2017 Thursday 12:01 AM GMT', 'language': 'ENGLISH', 'author': 'Cathy Otten, Mosul | Richard\\xa0Spencer', 'section': 'WORLD', 'publication-type': 'Newspaper; Web Publication', 'journal-type': 'Unknown', 'highlight': 'Unknown', 'dateline': 'Unknown', 'journal-code': 'WEBTTO', 'content': 'Iraqi troops fighting to take back Mosul reached the banks of the River Tigris yesterday and declared the eastern half of the city freed from Islamic State rule. \"Today we celebrate the liberation of the eastern bank in Mosul,\" said Lieutenant-General Talib Shaghati, head of the elite US-trained counterterrorism force known as the Golden Division. His men have surged through the crumbling Isis resistance in the past few days, planting the Iraqi national flag over the destroyed Tomb of the Prophet Jonah and the unfinished new Grand Mosque. As they did so, relieved residents began to come out on to the streets. \"You can\\'t imagine how I\\'m feeling - I can\\'t talk,\" Said Aya Saad, 25, said as she emerged from her home with a toddler on her hip. From behind her came the sound of more women ululating, while her brother-in-law offered the soldiers bitter oranges picked from a tree in their garden. \"I\\'ve been sleeping under the stairs with my two children all week,\" she added. Neighbours said that the last Isis defenders had fled on motorbikes in the morning. The army has made rapid progress in the assault on Mosul since it relaunched operations on December 29. For much of the previous six weeks it had come to a standstill, but a change in tactics agreed with embedded British and American special forces to improve co-ordination between the Golden Division and other units, and focus on advancing on foot, gradually wore down Isis resistance. Earlier, troops had moved into what remained of the mosque housing the Jonah shrine that was blown up by the jihadists in July 2014, a month after they swept north from outposts in western Iraq\\'s Anbar province and seized the city, the country\\'s second largest. \"Nothing remains inside the shrine,\" said Hevidar Ahmed, a reporter for Rudaw, a Kurdish news agency in northern Iraq, who was the first journalist to visit the tomb of the prophet, known in Arabic as Nabi Yunus. \"It is all destroyed.\" Also liberated were the ruins of the ancient Assyrian city of Nineveh, where damage caused by Isis destruction will now be assessed. The story of Jonah and his consumption by a whale is told in the Old Testament - which refers to him preaching in Nineveh, biblical Mosul - and for centuries a church stood on the site of his supposed tomb. It was converted to a mosque after the Arab conquest. In a curious touch, it was also supposed to have contained a tooth from the whale that ate Jonah and since it had gone missing, a replica was donated by the Americans after the invasion of 2003. Pictures taken by Rudaw show that while some arches of the surrounding mosque are still standing, nothing remains of the shrine itself. The army will now have to decide whether to capitalise on its advantage and make an immediate assault over the river on the densely populated western half of the city or regroup. The west is the modern heart of the city and contains one of the coalition\\'s most symbolic targets, the Great Mosque of al-Nuri, where the leader of Isis, Abu Bakr al-Baghdadi, was filmed giving a sermon announcing himself as caliph after its capture.', 'errors': [], 'load-date': 'January 19, 2017', 'filename': 'C:\\\\Users\\\\Simon\\\\OneDrive - University of Exeter\\\\__Project__\\\\__Data__\\\\01 Raw/EuroNews_-_English_Version_Sky_News_Ukrinfor2019-07-18_03-41.HTML', 'id': 101},\n",
       "       {'publication': 'CNN.com', 'title': 'Mali suicide bombing: Al Qaeda-linked group claims responsibility\\n', 'datetime': datetime.datetime(2017, 1, 19, 10, 55, tzinfo=<UTC>), 'raw-date': 'January 19, 2017 Thursday 5:55 AM EST', 'language': 'ENGLISH', 'author': 'By Angela Dewan and Mohammed Tawfeeq, CNN', 'section': 'AFRICA', 'publication-type': 'Web Publication', 'journal-type': 'Unknown', 'highlight': 'Unknown', 'dateline': 'Unknown', 'journal-code': 'Unknown', 'content': 'A group with links to Al Qaeda has claimed responsibility for a suicide car bombing that tore through a military camp in West Africa\\'s Mali, killing 47 people. The attack was launched Wednesday in the city of Gao at the camp shared by government forces and armed groups, who had signed a peace deal in 2012 and were to carry out joint patrols. The Al Mourabitoun militant group claimed it was behind the attack in a statement posted on Facebook and obtained by Mauritanian news agency Al-Akhbar. The group is the Mali branch of Al Qaeda\\'s North African affiliate, Al Qaeda in the Islamic Maghreb (AQIM). \"We will not allow the establishment of military posts and headquarters or the convening of patrols and convoys belonging to the French occupiers to wage war against the mujahideen,\" the statement read. Al Mourabitoun is led by terrorist Mokhtar Belmokhtar, who is believed to have been behind a number of high-profile attacks against military and civilian targets in Mali and elsewhere in Africa. The one-eyed Belmokhtar has been mistakenly declared dead many times. The United States named him a global terrorist 12 years ago and offered a $5 million reward for information about him. Francois Delattre, France\\'s ambassador to the United Nations, said Wednesday that the attack was an \"attempt against the ongoing efforts in Mali to stabilize the country and a direct effort to undermine the peace agreement.\" Mali is a former French colony that has struggled with instability and Islamist extremists for years. An uprising by rebels from the Tuareg ethnic minority began in the country\\'s sparsely populated north in January 2012, followed by a military coup two months later. During the chaos that followed, Islamist extremists who had helped the Tuareg against Malian forces took over a large portion of northern Mali for themselves. At Mali\\'s request, France sent thousands of troops after the coup to help push out the militants. The United Nations also established a peacekeeping mission to secure the government enough to continue a peace process. French troops helped push the militants out of urban areas, but the militants persisted in the nation\\'s desert regions. An Algerian-brokered peace deal, which allowed for greater autonomy in the country\\'s north, was signed in June 2015 by the so-called Coordination of Movements of Azawad, representing the Tuareg-led rebels.', 'errors': [], 'load-date': 'January 20, 2017', 'filename': 'C:\\\\Users\\\\Simon\\\\OneDrive - University of Exeter\\\\__Project__\\\\__Data__\\\\01 Raw/EuroNews_-_English_Version_Sky_News_Ukrinfor2019-07-18_03-41.HTML', 'id': 136},\n",
       "       {'publication': 'CNN.com', 'title': 'Mattis readies possible ISIS options for Trump Pentagon visit\\n', 'datetime': datetime.datetime(2017, 1, 19, 12, 9, tzinfo=<UTC>), 'raw-date': 'January 19, 2017 Thursday 7:09 AM EST', 'language': 'ENGLISH', 'author': 'By Barbara Starr, CNN Pentagon Correspondent', 'section': 'POLITICS', 'publication-type': 'Web Publication', 'journal-type': 'Unknown', 'highlight': 'Unknown', 'dateline': 'Unknown', 'journal-code': 'Unknown', 'content': 'Defense Secretary James Mattis is quickly taking charge of a Pentagon review to determine specific options to propose to President Donald Trump to accelerate the war against ISIS. Some initial ideas could be presented possibly as soon as this week, according to defense officials. With Trump scheduled to visit the Pentagon on Friday, Mattis, along with Joint Chiefs of Staff Chairman Gen. Joseph Dunford, will be reviewing potential options that could be presented to the President. That internal review will incorporate military advice from both Dunford and Gen. Joseph Votel, the head of the US Central Command. The Defense Department is responding to Trump\\'s campaign pledge that he would ask military leaders for a plan within 30 days of taking office on how to defeat ISIS, something the President mention in his inaugural address. During the campaign, Trump said he had a secret plan to destroy ISIS that appeared to involve cooperation with Russia but details were never made public. Now, with Mattis on board, the Pentagon has a leader who can accomplish trying to get more details from the White House on exactly what it wants to accomplish and on what timetable. Officials described two scenarios: One is to \"pull\" more information from the White House on how it wants to proceed. The other is to \"push\" to Trump some existing options that Barack Obama never approved when he was in the White House. These options have been developed with enough detail that the President could quickly sign new presidential authority orders to start the process rolling, although it could take weeks and months to see an impact on the battlefield. To boost the fight to retake Raqqa, ISIS\\' capital in Syria, one option is to begin to arm Kurdish fighters. That was never approved by Obama due to concerns it would deeply alienate Turkey. US relations with Turkey have suffered strains, and there have been concerns the Turks could restrict US access to airbases in that country. Another option that could be presented is to send more US troops into Syria to engage in combat around Raqqa to help push ISIS fighters out. But US military officials continue to strongly insist they do not support putting US troops or Kurdish fighters directly into Raqqa. One key question will be whether Trump will change the Obama policy and agree that Syria\\'s Bashar al-Assad should remain in power. That could open the door to the US military cooperating and coordinating with the Russian military in the skies over Syria, the official said. Meanwhile, all current military authorities for commanders and troops to undertake operations are still effective and are expected to stay in place for now, a defense official said. Military operations, including airstrikes and training and advising local forces in Iraq and Syria, will remain in effect unless Trump orders changes to current rules governing those operations. The rules for the use of special operations forces to target, capture or kill so-called high-value targets in counter-terrorism operations will also remain in place for now though they could be altered But under Obama, these types of high-risk missions, which often included deployments US troops on the ground, have required specific presidential approval in each case. For example, Obama personally approved the mission to strike ISIS camps in Libya last week. It will be up to Trump to decide if he wants to change the way approvals are done for such missions, the official said.', 'errors': [], 'load-date': 'January 25, 2017', 'filename': 'C:\\\\Users\\\\Simon\\\\OneDrive - University of Exeter\\\\__Project__\\\\__Data__\\\\01 Raw/EuroNews_-_English_Version_Sky_News_Ukrinfor2019-07-18_03-41.HTML', 'id': 141},\n",
       "       {'publication': 'CNN.com', 'title': 'NATO: We ward off 500 cyberattacks each month\\n', 'datetime': datetime.datetime(2017, 1, 19, 14, 27, tzinfo=<UTC>), 'raw-date': 'January 19, 2017 Thursday 9:27 AM EST', 'language': 'ENGLISH', 'author': 'By Ryan Browne', 'section': 'POLITICS', 'publication-type': 'Web Publication', 'journal-type': 'Unknown', 'highlight': 'Unknown', 'dateline': 'Washington', 'journal-code': 'Unknown', 'content': 'NATO warded off 500 cyberattacks each month in 2016, according to statistics compiled by the military alliance. \"Our systems register over 500 million suspicious cyber events each day,\" NATO spokesperson Oana Lungescu told CNN Thursday. She added that in 2016, NATO was subjected to an average of 500 cyberattacks per month that merited some kind of response, \"an increase of roughly 60% over 2015.\" \"Foreign governments, criminals and terrorists can all be the source of cyberattacks, and attribution can be difficult,\" Lungescu said. \"But of course, nations have the largest resources in the cyber field, and they are responsible for the majority of targeted attacks against NATO networks.\" President-elect Donald Trump called the military alliance obsolete in an interview with British and German media that was published on Sunday. \"I said a long time ago that NATO had problems,\" Trump told them. \"It was obsolete, because it was, you know, designed many, many years ago.\" But at the Davos Forum in Switzerland Thursday, NATO Secretary General emphasized the alliance\\'s adaptability in the face of new threats like cyber. He noted that the alliance would respond to cyber-attacks in the same way that it would to a conventional assault, making cyber eligible for the invocation of NATO\\'s mutual defense clause, Article V. In June, NATO opted to make cyber an official operational domain of warfare, along with air, sea and land. \"We have decided that a cyberattack can trigger Article Five, meaning that (a) cyberattack can trigger a response from the whole alliance as a conventional armed attack,\" Stoltenberg said. \"We are doing more when it comes to cyber defense because we have to understand that cyber-attacks can be as dangerous, as serious as armed attacks,\" he said. NATO officials have said that the alliance already faces daily attacks from a variety of hostile actors. Russia is widely believed to have the most sophisticated cyber capabilities among NATO\\'s traditional adversaries. Stoltenberg\\'s comments on cyber come amid increased concerns over security following the US intelligence community\\'s findings that Russia directed cyber attacks against US electoral organizations. US officials have also warned that Russia may mount similar cyber campaigns against targets in Europe. Speaking at NATO headquarters in Belgium last week, the secretary general warned adversaries against meddling in elections. \"We have seen reports about cyberattacks against many NATO allies and any attempt to intervene or to influence national elections from outside is unacceptable,\" he said. Throughout his appearance at Davos, Stoltenberg repeatedly touted the alliance\\'s ability to respond and adapt to an ever-changing security environment, citing NATO\\'s moves to bolster its eastern flank, fight terrorism in Afghanistan and respond to cyber. \"NATO is the most successful military alliance in history because we have been able to adapt and will continue to adapt,\" Stoltenberg said.', 'errors': [], 'load-date': 'July 19, 2017', 'filename': 'C:\\\\Users\\\\Simon\\\\OneDrive - University of Exeter\\\\__Project__\\\\__Data__\\\\01 Raw/EuroNews_-_English_Version_Sky_News_Ukrinfor2019-07-18_03-41.HTML', 'id': 154},\n",
       "       {'publication': 'CNN.com', 'title': 'Osama bin Laden, terrorist leader and doting father\\n', 'datetime': datetime.datetime(2017, 1, 19, 19, 38, tzinfo=<UTC>), 'raw-date': 'January 19, 2017 Thursday 2:38 PM EST', 'language': 'ENGLISH', 'author': 'By Peter Bergen, CNN National Security Analyst', 'section': 'OPINIONS', 'publication-type': 'Web Publication', 'journal-type': 'Unknown', 'highlight': 'Unknown', 'dateline': 'Unknown', 'journal-code': 'Unknown', 'content': 'In his final days hiding out in a compound in Pakistan, Osama bin Laden was still trying to control his global terrorist enterprise, while also taking an intense interest in the welfare of his some two dozen children from his five wives. It\\'s another side of the al Qaeda leader that was revealed in 49 documents released Thursday. The new material, which comprises many hundreds of pages, is the fourth group of bin Laden documents to be released by the US government since 2012. They were seized from bin Laden\\'s hideout in Abbottabad during the raid by US Navy SEALs that resulted in his death five years ago. The newly released documents were made public the day before the Obama administration transitions to the Trump administration. In a bin Laden letter dated January 7, 2011 -- just five months before he was killed in the US Navy SEALs raid -- al Qaeda\\'s leader wrote to his sons Uthman and Muhammad, saying that he was \"longing\" to see them, but he regretted that \"our security situation does not allow us at this time to be together.\" Uthman and Muhammad, both in their 20s, had been living under some form of house arrest in Iran for many years and had recently been allowed to go free by the Iranian regime. In the note to his sons, bin Laden gave them elaborate instructions to meet someone who lived in the western Pakistani city of Peshawar who could help them with their lives on the run. Bin Laden -- who, as a fugitive for many years, was given to a certain amount of understandable paranoia -- told his two sons that he was worried that the Iranians might have injected them with some kind of \"shot\" before they were allowed to leave Iran. Bin Laden wrote that such a shot might have been \"loaded with a tiny chip\" no larger than a \"seed of grain\" that could track their whereabouts. An undated letter to bin Laden discusses another of his sons, Hamza. In that letter, an al Qaeda member says that he could not send Hamza from his current location in Pakistan\\'s tribal regions on the border with Afghanistan to join his father in Abbottabad in northern Pakistan because the journey was too dangerous. Bin Laden sent a letter to Hamza telling him to leave the tribal regions and move to the megacity of Karachi on Pakistan\\'s southern coast. He told Hamza to make the journey on a \"cloudy day,\" presumably to avoid being spotted by CIA drones that fly over Pakistan\\'s tribal regions trying to locate members of al Qaeda. When the SEALs raided bin Laden\\'s compound in Abbottabad they expected they might find Hamza there, but he wasn\\'t. Since then, Hamza, 28, has starred in a number of al Qaeda propaganda videos and this month was officially designated as a terrorist by the US State Department. An undated note from one of bin Laden\\'s daughters, Khadija, is a rare find because it\\'s one of the few missives from one of his daughters that has become public. Khadija, who was living on the run somewhere in the lawless region along the Afghanistan-Pakistan border, told her parents that she had suffered a number of health problems including malaria and typhoid as well as a miscarriage. In another letter, Khadija wrote there was no electricity where she was living and she was rarely able to use her computer as a result. Bin Laden stayed in touch with terror groups around the world While bin Laden fretted over the welfare of his children, in other memos he wrote to leaders of al Qaeda and its affiliated groups, portraying himself as the leader who was setting policy for the global jihadist movement. Despite his isolation in the Abbottabad compound -- where for security reasons he didn\\'t have phone service or the Internet -- the newly released documents show that bin Laden and his top aides still managed to stay in touch with a range of al Qaeda affiliates and other jihadist groups in Nigeria, North Africa, Pakistan and Yemen. Letters to these groups were carried on thumb drives by bin Laden\\'s courier and were then uploaded to the Internet far from the hideout in Abbottabad. In the summer of 2007, bin Laden received a detailed report from his North African affiliate, al Qaeda in the Islamic Maghreb (AQIM), detailing its cash flow and personnel issues. The report asked bin Laden to send more expert instructors from the Iraqi and Afghan war zones to train AQIM\\'s fighters, and to send surface-to-air missiles. A letter three years later to AQIM from an al Qaeda leader about a \"top secret matter\" advised that the \"brothers\" in the group who were not married could be allowed to \"masturbate\" to relieve sexual tension. The same letter suggested that French female hostages then being held by AQIM should be released for ransom of \"say 5 million Euros\" (almost $7 million). The letter went on to suggest that male hostages held by AQIM should continue to be held and be used to make propaganda videos to be released to the media \"every 2-3 months.\" In an undated 26-page memo addressed to the leader of al Qaeda\\'s affiliate in Yemen, bin Laden made it clear that al Qaeda\\'s far-flung branches had to remain focused on the main goal of attacking the United States, which bin Laden described as \"the head\" of \"infidel\" forces. Bin Laden also warned his followers in Yemen that while it was the Arab country best positioned to become an \"Islamic State,\" al Qaeda simply didn\\'t have the capacity to run a real state. (This advice is in sharp contract to what ISIS decided to do in 2014 when it declared itself to be an Islamic State and \"caliphate\" that controlled large numbers of subjects and great swaths of territory across Iraq and Syria.) A report from Nigeria in 2009 gave al Qaeda\\'s leaders details about a then-largely unknown group, Boko Haram, which has since gained infamy for kidnapping hundreds of Nigerian girls and has proclaimed its allegiance to ISIS. A memo from the same year by bin Laden painted an extremely unflattering picture of the Shia regime in Iran. In public, the al Qaeda leader was careful to avoid criticism of the Iranians -- who were then holding several members of his family and organization in Iran, where they had fled following the fall of the Taliban in neighboring Afghanistan -- but in private, bin Laden viewed the Shia regime with great disdain, writing that they have a \"hatred for the family of Islam.\" An undated memo that may be from bin Laden makes for sinister reading. It advocated the killing of journalists and writers and celebrates the murder of \"a BBC photographer\" in Saudi Arabia, which appears to be a reference to Simon Cumbers, who was killed in 2004 in a terrorist attack in the Saudi capital, Riyadh, an attack that also targeted BBC correspondent Frank Gardner, who survived but is partially paralyzed and uses a wheelchair. The bureaucracy of terror Like any bureaucratic organization, the newly released memos show that al Qaeda had a set of guidelines that it circulated internally. An undated memo for its \"administrators\" outlined 22 best practices that included the installation of \"complaint boxes\" in al Qaeda\\'s guesthouses. The \"oversight committee\" was instructed to handle any complaints. There was also an undated ledger for monthly revenues of around $50,000, which al Qaeda members spent on diesel fuel, food, and wedding gifts for members as well as \"relocation\" costs for its leaders. A total of 282 documents from bin Laden\\'s compound have been publicly released during the past five years, as well as 266 related items, such as think-tank studies and US government documents that bin Laden kept in the library he maintained at his Abbottabad compound. According to US officials familiar with the document haul, between 100 and 200 of the al Qaeda leader\\'s documents have not been publicly released yet because they are believed to have some continued intelligence value. Earlier reports about the bin Laden documents suggested there were far more documents. According to US officials familiar with the document haul, bin Laden was a meticulous editor who sometimes made up to 50 revisions on the documents he was writing. A news junkie, he also kept tens of thousands of scanned pages of media articles that his courier would bring to him on thumb drives and which he would download onto his computer. Those multiple revisions and the large numbers of media articles accounted for the confusion about the scale of the number of documents that were recovered in Abbottabad. It\\'s now up to the Trump administration to decide if the remaining bin Laden documents should be released.', 'errors': [], 'load-date': 'January 20, 2017', 'filename': 'C:\\\\Users\\\\Simon\\\\OneDrive - University of Exeter\\\\__Project__\\\\__Data__\\\\01 Raw/EuroNews_-_English_Version_Sky_News_Ukrinfor2019-07-18_03-41.HTML', 'id': 187},\n",
       "       {'publication': 'CNN.com', 'title': 'New al Qaeda documents reveal the bureaucracy of terror\\n', 'datetime': datetime.datetime(2017, 1, 19, 21, 17, tzinfo=<UTC>), 'raw-date': 'January 19, 2017 Thursday 4:17 PM EST', 'language': 'ENGLISH', 'author': 'By Emanuella Grinberg, CNN', 'section': 'MIDDLEEAST', 'publication-type': 'Web Publication', 'journal-type': 'Unknown', 'highlight': 'Unknown', 'dateline': 'Unknown', 'journal-code': 'Unknown', 'content': 'The Office of the Director of National Intelligence released 49 new documents Thursday that were recovered from Osama bin Laden\\'s hideout during the US raid that resulted in his death in 2011. The trove is full of revelations about bin Laden\\'s final days, recapped here in great detail by CNN national security analyst Peter Bergen. What also caught our eye were memos that outlined administrative procedures and best practices for the terror group. It\\'s not surprising that an organization as diffuse as al Qaeda would have rules. What makes them interesting is that we rarely hear about them -- and how much some sound like our own regulations. For example: Fridays are reserved for administrative duties This is perhaps not all that surprising, because Friday is the holy day of the week for Muslims. As such, Friday is for administrative work and no one is to be deployed \"except for emergencies,\" according to administrative instructions.  There\\'s an oversight committee Administrators are responsible for a host of duties: coordinating deployments with other brigades, creating a reception area for guests, visiting members\\' families, transferring money, bringing the mail to the postal center. They are accountable to an administrative oversight committee that meets once a month to discuss administrative issues. Such issues could include disciplinary action for an administrator \"who does not execute the schedule or cooperate with the brothers in executing it, or becomes lenient in the security affairs.\" The committee is open to feedback A fixture of office break rooms worldwide, a suggestion/complaint box is required at every al Qaeda guesthouse, according to the administrative instructions. The oversight committee is responsible for reviewing the feedback at each meeting.  They are sensitive to career development One of the documents addresses concerns of the shura, a council that discusses affairs of import to the organization. Significant space in the document is dedicated to \"why we did not bring on board the brothers who were older in age into a managerial position.\" Without the full context it\\'s hard to know exactly what it means. But some of the sentiments and platitudes may sound familiar. \"Should there be someone at work who you dislike, reason with him and do not lead him to the point where he becomes your enemy.\" The document speaks of \"the need to train the brother who is over 30 years of age and who has a difficult attitude to change and improve his attitude to the better in circumstances such as these.\" In such cases, it\\'s necessary \"to aim and monitor him as well as avoid tasking him with duties that could potentially harm the work in general. \".', 'errors': [], 'load-date': 'January 21, 2017', 'filename': 'C:\\\\Users\\\\Simon\\\\OneDrive - University of Exeter\\\\__Project__\\\\__Data__\\\\01 Raw/EuroNews_-_English_Version_Sky_News_Ukrinfor2019-07-18_03-41.HTML', 'id': 197},\n",
       "       {'publication': 'CNN.com', 'title': 'Will President Trump restart the drone war in Pakistan?\\n', 'datetime': datetime.datetime(2017, 1, 19, 21, 28, tzinfo=<UTC>), 'raw-date': 'January 19, 2017 Thursday 4:28 PM EST', 'language': 'ENGLISH', 'author': 'By Peter Bergen and David Sterman', 'section': 'OPINIONS', 'publication-type': 'Web Publication', 'journal-type': 'Unknown', 'highlight': 'Unknown', 'dateline': 'Unknown', 'journal-code': 'Unknown', 'content': 'The American drone war in Pakistan effectively ended nearly eight months ago when the US conducted its last drone strike, killing the Taliban\\'s leader, Mullah Akhtar Mansour. After using CIA drones regularly for 7 years in Pakistan -- a country where the United States is not waging a traditional war, such as in Iraq -- the Obama administration has now presided over the longest cessation of strikes since President Obama took office, according to data collected by New America. It is in Pakistan where the majority of CIA drone strikes have occurred under Obama, resulting in the death of a minimum of 1,904 people and perhaps as many as 3,114, according to New America\\'s research. The drone program has continued in other countries outside of traditional war zones, such as Yemen and Somalia, but at relatively small levels, compared to the 122 strikes in one year that occurred in Pakistan at the height of Obama\\'s drone war there. On Friday, Donald Trump took the oath of office. He has a key decision to make as commander in chief: Will he re-start the drone strikes? That decision should be guided by the scope of the real threat emanating from Pakistan, rather than simply a desire to do something other than what the departing administration has done, which is often the impulse of an incoming administration. The threat from al-Qaeda in Pakistan has receded and the need for \"force protection\" of US troops in Afghanistan has much diminished with the significant withdrawals of American forces in the past years. There is also a widespread perception in Pakistan that drones kill too many civilians -- according to a 2014 Pew poll, two thirds of Pakistanis believe this to be the case. Any decision to reactivate the drone campaign in Pakistan should take into account that the program and the United States are quite unpopular in the country, which has a population of more than 180 million people. The Trump team on drones The incoming Trump national security team has not laid out a clear policy on drone strikes, but it has made general statements suggestive of a coming escalation. During the campaign, Trump stated, \"The other thing with the terrorists is you have to take out their families,\" and called President Obama\\'s war on ISIS a \"politically correct war.\" Trump brings with him appointees who have long supported the drone war. In 2013, Mike Pompeo, Trump\\'s nominee for Director of the CIA, stated: \"I believe the president needs a lot of space to maneuver,\" adding, \"He should have a lot of authority to make decisions about when they\\'ve identified someone who is trying to kill Americans, to be able to go in and get them.\" In 2011, General James Mattis, who at the time was Commander of Central Command, which directs American military operations stretching from Egypt to Pakistan, and is now Trump\\'s Defense Secretary nominee, was among those who pushed for an escalation of air strikes in Yemen. On the other hand, members of Trump\\'s circle have also criticized the drone war. Despite his role in pushing for an escalation of strikes in Yemen, Mattis has warned that drone warfare can give a false impression that war is manageable. In January 2016, Michael Flynn, who is slated to be Trump\\'s National Security Adviser, told Al Jazeera, \"When you drop a bomb from a drone ... you are gonna cause more damage than you\\'re gonna cause good,\" adding that \"there should be a different approach.\" Flynn, however, refused to condemn Trump\\'s comments regarding killing terrorists\\' family members, commenting instead: \"I would have to see the circumstances of that situation.\" He added, \"These are very difficult political decisions.\" He has also criticized the current restraints on strikes that are meant to limit collateral damage. The Trump team on Pakistan Trump and his team have also not laid out a clear policy on U.S. relations with Pakistan. Trump has at times taken a conciliatory tone. Shortly after being elected, he told Pakistani Prime Minister Nawaz Sharif, \"You are a terrific guy,\" and offered, \"I am ready and willing to play any role that you want me to play to address and find solutions to the outstanding problems,\" according to a Pakistani readout of a call he had with Sharif. In his answers to questions from the Senate Armed Services Committee before his confirmation hearing last week, Mattis cautioned that conditioning aid to Pakistan has had a \"mixed history\" and that the casualties Pakistan has suffered fighting terror is a \"sign of its commitment,\" but warned he would \"review all options.\" Yet in 2012 Trump tweeted a demand that Pakistan apologize for the fact that Osama bin Laden had been hiding there, commenting, \"Some \\'ally.\\'\" Why did the strikes in Pakistan halt? There are two explanations for the halt, which are not mutually exclusive: either the Obama administration made a decision to refrain from strikes or the cessation derives from a lack of need or opportunity to conduct strikes. The number of strikes in Pakistan has consistently declined since their peak of 122 strikes or about ten per month in 2010. In an October interview, President Obama said he was \"troubled\" early in his presidency by \"the way in which the number of drone strikes was going up.\" Yet beyond Pakistan, there is little evidence that the Obama administration has reined in its air wars against terrorist groups. In Yemen, the United States conducted more drone strikes in 2016 than any year except 2012, the peak of the campaign in the country, according to data collected by New America. In Somalia, the United States has conducted more strikes in 2016 than during any previous year, according to New America\\'s research. In 2016, Washington and its coalition partners conducted more than 7,000 strikes in Iraq and Syria. And in Libya, the United States has conducted more than 350 air strikes since August as part of its military campaign against ISIS there. Alternatively, it is possible the Obama administration decided that it is not worth antagonizing Pakistan with further strikes. Though Pakistan has criticized American strikes before ? publicly, at least ? the strike on Mullah Mansour may have generated a more significant reaction as it occurred in the province of Balochistan, violating an agreement that restricted American strikes to Pakistan\\'s tribal areas. Pakistan called the strike \"totally illegal, not acceptable and against the sovereignty and integrity of the country.\" Such protestations have not prevented previous strikes. Another potential explanation for the cessation is that the United States is running out of targets in Pakistan. At the peak of the drone war in Pakistan, the United States had around 100,000 soldiers in Afghanistan, while today the United States has fewer than 10,000 soldiers there, reducing the need to conduct \"force protection\" strikes. The rise and fall in drone strikes in Pakistan closely mirrors the rise and fall of American troop numbers in Afghanistan. Pakistan\\'s military operation to secure its northern tribal areas along the Afghan-Pakistan border in 2015 resulted in an influx of militants into Afghanistan as they fled Pakistan, further reducing the number of targets. The United States has killed more than 50 al Qaeda and Taliban leaders in Pakistan since the beginning of the CIA drone campaign. In 2011, before he was killed in a US Navy SEAL raid, bin Laden was considering moving al Qaeda\\'s key figures out of Pakistan to avoid the strikes. Even the Taliban\\'s leadership council, which has long been able to find shelter in Pakistan\\'s cities, may now have moved back to Afghanistan in recent months. According to General John W. Nicholson, the commander of US forces in Afghanistan, the United States has killed or captured 50 key al Qaeda leaders and facilitators in Afghanistan in 2016 alone. Given his rhetoric, Trump may well escalate the drone war in Pakistan and there isn\\'t much to stop him if he chooses to do so. A decade and half ago, Congress authorized the war in Afghanistan, which was extended to Pakistan first by George W. Bush and then Obama. Under Obama, the drone war in Pakistan reached its height, and Trump, should he choose to do so, can easily bring that war back.', 'errors': [], 'load-date': 'January 22, 2017', 'filename': 'C:\\\\Users\\\\Simon\\\\OneDrive - University of Exeter\\\\__Project__\\\\__Data__\\\\01 Raw/EuroNews_-_English_Version_Sky_News_Ukrinfor2019-07-18_03-41.HTML', 'id': 198},\n",
       "       {'publication': 'CNN.com', 'title': 'Imam to offer call to prayer at inaugural morning event\\n', 'datetime': datetime.datetime(2017, 1, 19, 23, 54, tzinfo=<UTC>), 'raw-date': 'January 19, 2017 Thursday 6:54 PM EST', 'language': 'ENGLISH', 'author': 'By Theodore Schleifer, CNN', 'section': 'POLITICS', 'publication-type': 'Web Publication', 'journal-type': 'Unknown', 'highlight': 'Unknown', 'dateline': 'Washington', 'journal-code': 'Unknown', 'content': 'An imam will issue the Muslim call to prayer at an interfaith service on Saturday to mark President-elect Donald Trump\\'s inauguration, according to the inaugural committee. Imam Mohamed Magid of the All Dulles Area Muslim Society Center, also known as the ADAMS Center, in Sterling, Virginia, will be one of 26 people offering prayers and reading from Scripture at the National Prayer Service that follows the swearing-in ceremony. The service occurs at the Washington National Cathedral. Trump has cast himself as a fierce opponent of \"radical Islam,\" and some Muslim groups have taken offense in his rhetoric that they say targets all adherents of Islam. In response, Trump has maintained that he has deep ties to the Muslim community. One of Trump\\'s most controversial policies has been a plan to temporarily end all Muslim immigration to the United States, though he has since said he only want to ban immigration from unspecified countries with heavy terrorist activity. Magid has worked to de-radicalize Muslim youths recruited by Islamic militant groups such as ISIS, and the ADAMS Center has earned praise from the FBI \"for their leadership role in building partnerships between law enforcement and the Muslim community to enhance mutual cooperation and public safety.\".', 'errors': [], 'load-date': 'January 20, 2017', 'filename': 'C:\\\\Users\\\\Simon\\\\OneDrive - University of Exeter\\\\__Project__\\\\__Data__\\\\01 Raw/EuroNews_-_English_Version_Sky_News_Ukrinfor2019-07-18_03-41.HTML', 'id': 210},\n",
       "       {'publication': 'CNN.com', 'title': 'First on CNN: US bombs ISIS camps in Libya, dozens killed\\n', 'datetime': datetime.datetime(2017, 1, 20, 3, 49, tzinfo=<UTC>), 'raw-date': 'January 19, 2017 Thursday 10:49 PM EST', 'language': 'ENGLISH', 'author': 'By Barbara Starr, CNN Pentagon Correspondent', 'section': 'POLITICS', 'publication-type': 'Web Publication', 'journal-type': 'Unknown', 'highlight': 'Unknown', 'dateline': 'Unknown', 'journal-code': 'Unknown', 'content': 'US B-2 bombers struck and destroyed two ISIS camps in Libya overnight, with initial estimates that over 80 militants were killed, US officials told CNN Thursday.A The strikes were on external actors who were actively \"plotting attacks in Europe,\" Secretary of Defense Ash Carter told reporters. The mission was approved several days ago by President Barack Obama and is expected to be the last short-notice military operation ordered by him, according to sources. \"The fighters training in these camps posed a security risk to Libya, to its neighbors, to our allies in Africa and Europe, and to the United States,\" Pentagon spokesman Peter Cook told reporters. \"While we are still evaluating the results of the strikes, the initial assessment indicates they were successful.\" A US defense official said the militants were seen immediately beforehand carrying weapons, wearing tactical vests, holding mortars and standing in formation. The Department of Defense showed reporters a rare video of surveillance footage of the ISIS fighters as they loaded what appeared to be shells and rocket-propelled grenades into pick-up trucks. A second video showing the camps being bombed was also shown. The number killed was not released by the Pentagon, but the first estimate put the figure at over 80. There were no women or children in the area, the official said. Cook described the camps as being in a \"very rural area.\" US surveillance aircraft had been watching the sites for weeks as fighters fled from Sirte on the coastline into what they perceived to be the safety of remote desert areas. But the isolation of the area gave those surveillance aircraft clear imagery showing military-aged males in several areas, according to officials. The two camps that were destroyed were located about 28 miles southwest of Sirte, the Pentagon said. Cook said the strike was carried out by two US Air Force B-2 Spirit bombers flying from Whiteman Air Force Base, Missouri, a 30-plus hour roundtrip mission, and that over 100 bombs and missiles were dropped on the targets. It was the first time the aircraft were used in an attack since 2011. In addition to the B-2 bombers, unmanned aircraft also took part in the strikes, the defense official said. Initially, the rudimentary camps had moved and surveillance had to be conducted again before the strike. The B-2s heavy bombers flying from the US were planning to bomb four camps, according to early reports. Some of the sites may have been empty, with fighters having moved again. US Navy warships equipped with Tomahawk cruise missiles were also on standby, but initial reports indicate they were not needed. The President\\'s approval of the strike underscores in the closing hours of his administration the difficulty of targeting ISIS fighters in dozens of countries around the world. Obama has increasingly relied on armed drones, bombers and special forces on the ground to go after these types of targets in Syria and Iraq. \"We are committed to maintaining pressure on ISIL and preventing them from establishing safe haven,\" Cook said in a statement released earlier, using another acronym for ISIS, also known as the Islamic State. \"These strikes will degrade ISIL\\'s ability to stage attacks against Libyan forces and civilians working to stabilize Sirte, and demonstrate our resolve in countering the threat posed by ISIL to Libya, the United States and our allies.\" Helping Libya\\'s recovering oil sector was also a likely factor in the US decision to target the training camps, according to Geoff Porter, president of North Africa Risk Consulting. A A A \"Since the defeat of the Islamic State in Sirte, Libyan oil production has increased from roughly 500,000 to 750,000 barrels per day. This is largely due to the inability of the Islamic State to threaten upstream, midstream and downstream oil infrastructure in the Sirte Basin,\" Porter told CNN.A \"Targeting Islamic State training camps in the Sirte Basin consolidates the oil production gains made in the last two months and reduces the risk that they will be targeted by the Islamic State again in the future.\" Porter says the stakes could not be higher. \"Without oil production, Libya has no revenue. The only thing that could possibly save the struggling Government of National Accord is being able to restore the provision of social services. If oil flows, then the GNA has funds. If the GNA has funds, it can spend some of that money on electricity, gas, fuel, water, and can bolster the currency to reduce inflation.\".', 'errors': [], 'load-date': 'January 20, 2017', 'filename': 'C:\\\\Users\\\\Simon\\\\OneDrive - University of Exeter\\\\__Project__\\\\__Data__\\\\01 Raw/EuroNews_-_English_Version_Sky_News_Ukrinfor2019-07-18_03-41.HTML', 'id': 223}],\n",
       "      dtype=object)"
      ]
     },
     "execution_count": 8,
     "metadata": {},
     "output_type": "execute_result"
    }
   ],
   "source": [
    "load_pickle(r'C:\\Users\\Simon\\OneDrive - University of Exeter\\__Project__\\05 Filter Docs\\temp\\filtered.pkl')"
   ]
  },
  {
   "cell_type": "code",
   "execution_count": null,
   "metadata": {},
   "outputs": [],
   "source": []
  }
 ],
 "metadata": {
  "kernelspec": {
   "display_name": "MusicGen",
   "language": "python",
   "name": "musicgen"
  },
  "language_info": {
   "codemirror_mode": {
    "name": "ipython",
    "version": 3
   },
   "file_extension": ".py",
   "mimetype": "text/x-python",
   "name": "python",
   "nbconvert_exporter": "python",
   "pygments_lexer": "ipython3",
   "version": "3.7.5"
  }
 },
 "nbformat": 4,
 "nbformat_minor": 4
}
